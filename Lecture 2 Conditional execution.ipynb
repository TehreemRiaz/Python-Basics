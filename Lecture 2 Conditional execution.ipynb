{
 "cells": [
  {
   "cell_type": "markdown",
   "metadata": {},
   "source": [
    "# Contents\n",
    "## 1. Boolean Expression\n",
    "## 2. Comparison Operators\n",
    "## 3. Logical Operators\n",
    "## 4. if Statement\n",
    "## 5. Catching exceptions using try and except\n",
    "## 6. Short circuit evaluation of logical expressions"
   ]
  },
  {
   "cell_type": "markdown",
   "metadata": {},
   "source": [
    "# 1. Boolean Expressions"
   ]
  },
  {
   "cell_type": "markdown",
   "metadata": {},
   "source": [
    "A boolean expression is an expression that is either true or false."
   ]
  },
  {
   "cell_type": "code",
   "execution_count": 2,
   "metadata": {},
   "outputs": [
    {
     "data": {
      "text/plain": [
       "True"
      ]
     },
     "execution_count": 2,
     "metadata": {},
     "output_type": "execute_result"
    }
   ],
   "source": [
    "5==5"
   ]
  },
  {
   "cell_type": "code",
   "execution_count": 3,
   "metadata": {},
   "outputs": [
    {
     "data": {
      "text/plain": [
       "False"
      ]
     },
     "execution_count": 3,
     "metadata": {},
     "output_type": "execute_result"
    }
   ],
   "source": [
    "5==8"
   ]
  },
  {
   "cell_type": "code",
   "execution_count": 4,
   "metadata": {},
   "outputs": [
    {
     "data": {
      "text/plain": [
       "bool"
      ]
     },
     "execution_count": 4,
     "metadata": {},
     "output_type": "execute_result"
    }
   ],
   "source": [
    "type(True)"
   ]
  },
  {
   "cell_type": "code",
   "execution_count": 1,
   "metadata": {},
   "outputs": [
    {
     "data": {
      "text/plain": [
       "bool"
      ]
     },
     "execution_count": 1,
     "metadata": {},
     "output_type": "execute_result"
    }
   ],
   "source": [
    "# what is type of False\n",
    "type(False)\n",
    "\n"
   ]
  },
  {
   "cell_type": "markdown",
   "metadata": {},
   "source": [
    "# 2. Comparison Operators"
   ]
  },
  {
   "cell_type": "raw",
   "metadata": {},
   "source": [
    "x == y # x is equal to y\n",
    "\n",
    "x != y # x is not equal to y\n",
    "\n",
    "x > y # x is greater than y\n",
    "\n",
    "x < y # x is less than y\n",
    "\n",
    "x >= y # x is greater than or equal to y\n",
    "\n",
    "x <= y # x is less than or equal to y\n",
    "\n",
    "x is y # x is the same as y\n",
    "\n",
    "x is not y # x is not the same as y"
   ]
  },
  {
   "cell_type": "code",
   "execution_count": 10,
   "metadata": {},
   "outputs": [
    {
     "name": "stdout",
     "output_type": "stream",
     "text": [
      "True\n",
      "True\n",
      "True\n",
      "True\n"
     ]
    }
   ],
   "source": [
    "# if x = 10 and y = 10, which of the above statements will return True\n",
    "x = 10\n",
    "y = 10\n",
    "print(x == y) # x is equal to y\n",
    "\n",
    "print(x >= y) # x is greater than or equal to y\n",
    "\n",
    "print(x <= y) # x is less than or equal to y\n",
    "\n",
    "print(x is y) # x is the same as y\n"
   ]
  },
  {
   "cell_type": "code",
   "execution_count": 9,
   "metadata": {},
   "outputs": [
    {
     "name": "stdout",
     "output_type": "stream",
     "text": [
      "False\n",
      "False\n",
      "False\n",
      "False\n"
     ]
    }
   ],
   "source": [
    "# if x = 10 and y = 30, which of the above statements will return False\n",
    "x = 10\n",
    "y = 30\n",
    "print(x == y) # x is equal to y\n",
    "\n",
    "print(x > y) # x is greater than y\n",
    "\n",
    "print(x >= y) # x is greater than or equal to y\n",
    "\n",
    "print(x is y) # x is the same as y"
   ]
  },
  {
   "cell_type": "code",
   "execution_count": 11,
   "metadata": {},
   "outputs": [
    {
     "data": {
      "text/plain": [
       "True"
      ]
     },
     "execution_count": 11,
     "metadata": {},
     "output_type": "execute_result"
    }
   ],
   "source": [
    "# write the comparsion operators which are common in above two\n",
    "x == y\n",
    "x >= y\n",
    "x is y"
   ]
  },
  {
   "cell_type": "markdown",
   "metadata": {},
   "source": [
    "# 3. Logical operators"
   ]
  },
  {
   "cell_type": "markdown",
   "metadata": {},
   "source": [
    "There are three logical operators: and, or, and not"
   ]
  },
  {
   "cell_type": "code",
   "execution_count": 12,
   "metadata": {},
   "outputs": [
    {
     "name": "stdout",
     "output_type": "stream",
     "text": [
      "True\n"
     ]
    }
   ],
   "source": [
    "x = 6\n",
    "print (x > 0 and x < 10)"
   ]
  },
  {
   "cell_type": "code",
   "execution_count": 13,
   "metadata": {},
   "outputs": [
    {
     "name": "stdout",
     "output_type": "stream",
     "text": [
      "False\n"
     ]
    }
   ],
   "source": [
    "print (not (x%2 == 0))"
   ]
  },
  {
   "cell_type": "code",
   "execution_count": 14,
   "metadata": {},
   "outputs": [
    {
     "data": {
      "text/plain": [
       "True"
      ]
     },
     "execution_count": 14,
     "metadata": {},
     "output_type": "execute_result"
    }
   ],
   "source": [
    "17 and True"
   ]
  },
  {
   "cell_type": "code",
   "execution_count": 15,
   "metadata": {},
   "outputs": [
    {
     "data": {
      "text/plain": [
       "True"
      ]
     },
     "execution_count": 15,
     "metadata": {},
     "output_type": "execute_result"
    }
   ],
   "source": [
    "# what will be the output of 0 or True\n",
    "0 or True"
   ]
  },
  {
   "cell_type": "code",
   "execution_count": 16,
   "metadata": {},
   "outputs": [
    {
     "data": {
      "text/plain": [
       "False"
      ]
     },
     "execution_count": 16,
     "metadata": {},
     "output_type": "execute_result"
    }
   ],
   "source": [
    "# what will be the output of 1 and False\n",
    "1 and False"
   ]
  },
  {
   "cell_type": "code",
   "execution_count": 23,
   "metadata": {},
   "outputs": [
    {
     "name": "stdout",
     "output_type": "stream",
     "text": [
      "False\n",
      "True\n",
      "True\n"
     ]
    }
   ],
   "source": [
    "# will the output be true or false\n",
    "print((True or False) and False)\n",
    "# now try it out without parantheses\n",
    "print(True or False and False)\n",
    "print(False and False or True)"
   ]
  },
  {
   "cell_type": "markdown",
   "metadata": {},
   "source": [
    "# 4. if Statement"
   ]
  },
  {
   "cell_type": "code",
   "execution_count": 21,
   "metadata": {},
   "outputs": [
    {
     "name": "stdout",
     "output_type": "stream",
     "text": [
      "x is positive\n",
      "value of x is =  5\n"
     ]
    }
   ],
   "source": [
    "x = 5\n",
    "if x > 0 :\n",
    "    print (\"x is positive\")\n",
    "    print (\"value of x is = \", x)"
   ]
  },
  {
   "cell_type": "code",
   "execution_count": 30,
   "metadata": {
    "collapsed": true
   },
   "outputs": [],
   "source": [
    "# you can use the pass statement, which does nothing\n",
    "x = 6\n",
    "if x < 0 :\n",
    "    pass"
   ]
  },
  {
   "cell_type": "markdown",
   "metadata": {},
   "source": [
    "### Alternative execution"
   ]
  },
  {
   "cell_type": "code",
   "execution_count": 34,
   "metadata": {},
   "outputs": [
    {
     "name": "stdout",
     "output_type": "stream",
     "text": [
      "x is odd\n"
     ]
    }
   ],
   "source": [
    "x = 5\n",
    "if x%2 == 0 :\n",
    "    print ('x is even')\n",
    "else :\n",
    "    print ('x is odd')"
   ]
  },
  {
   "cell_type": "markdown",
   "metadata": {},
   "source": [
    "### Chained conditionals"
   ]
  },
  {
   "cell_type": "code",
   "execution_count": 3,
   "metadata": {},
   "outputs": [
    {
     "name": "stdout",
     "output_type": "stream",
     "text": [
      "x is greater than y\n"
     ]
    }
   ],
   "source": [
    "x = 12\n",
    "y = 2\n",
    "if x < y:\n",
    "    print ('x is less than y')\n",
    "elif x > y:\n",
    "    print ('x is greater than y')\n",
    "else:\n",
    "    print ('x and y are equal')"
   ]
  },
  {
   "cell_type": "code",
   "execution_count": 37,
   "metadata": {},
   "outputs": [
    {
     "name": "stdout",
     "output_type": "stream",
     "text": [
      "Good guess\n"
     ]
    }
   ],
   "source": [
    "choice = 'b'\n",
    "if choice == 'a':\n",
    "    print ('Bad guess')\n",
    "elif choice == 'b':\n",
    "    print ('Good guess')\n",
    "elif choice == 'c':\n",
    "    print ('Close, but not correct')"
   ]
  },
  {
   "cell_type": "code",
   "execution_count": null,
   "metadata": {
    "collapsed": true
   },
   "outputs": [],
   "source": [
    "# Write a program to prompt for a score between 0.0 and 1.0. If the score is out of range \n",
    "# print an error. If the score is between 0.0 and 1.0, print a grade using the following \n",
    "# table:\n",
    "# Score Grade\n",
    "# >= 0.9 A\n",
    "# >= 0.8 B\n",
    "# >= 0.7 C\n",
    "# >= 0.6 D\n",
    "# < 0.6 F"
   ]
  },
  {
   "cell_type": "code",
   "execution_count": 26,
   "metadata": {},
   "outputs": [
    {
     "name": "stdout",
     "output_type": "stream",
     "text": [
      "enter a score between 0.0 and 1.0: 0.75\n",
      "C\n"
     ]
    }
   ],
   "source": [
    "score = float(input(\"enter a score between 0.0 and 1.0: \"))\n",
    "if score < 0.0 or score > 1.0:\n",
    "    print(\"Error: Score out of range\")\n",
    "else:\n",
    "    if score >= 0.9:\n",
    "        print(\"A\")\n",
    "    elif score >= 0.8:\n",
    "        print(\"B\")\n",
    "    elif score >= 0.7:\n",
    "        print(\"C\")\n",
    "    elif score >= 0.6:\n",
    "        print(\"D\")\n",
    "    else:\n",
    "        print(\"F\")\n"
   ]
  },
  {
   "cell_type": "markdown",
   "metadata": {},
   "source": [
    "### Nested conditions"
   ]
  },
  {
   "cell_type": "code",
   "execution_count": 4,
   "metadata": {},
   "outputs": [
    {
     "name": "stdout",
     "output_type": "stream",
     "text": [
      "x is less than y\n"
     ]
    }
   ],
   "source": [
    "x = 5\n",
    "y = 23\n",
    "if x == y:\n",
    "    print ('x and y are equal')\n",
    "else:\n",
    "    if x < y:\n",
    "        print ('x is less than y')\n",
    "    else:\n",
    "        print ('x is greater than y')"
   ]
  },
  {
   "cell_type": "code",
   "execution_count": 33,
   "metadata": {},
   "outputs": [
    {
     "name": "stdout",
     "output_type": "stream",
     "text": [
      "Enter a number: 27\n",
      "27 is odd.\n",
      "27 is odd\n"
     ]
    }
   ],
   "source": [
    "# Write a program that reads an integer and determines and prints whether it is odd or even. (Hint: First use the\n",
    "#simple division, then introduce modulus operator).\n",
    "num = int(input(\"Enter a number: \"))\n",
    "if num // 2 * 2 == num:\n",
    "    print(num, \"is even.\")\n",
    "else:\n",
    "    print(num, \"is odd.\")\n",
    "\n",
    "if num % 2 == 0:\n",
    "    print(num, \"is even\")\n",
    "else:\n",
    "    print(num, \"is odd\")"
   ]
  },
  {
   "cell_type": "code",
   "execution_count": 4,
   "metadata": {},
   "outputs": [
    {
     "name": "stdout",
     "output_type": "stream",
     "text": [
      "Enter 1st number: 2\n",
      "Enter 2nd number: 0\n",
      "Division by Zero\n"
     ]
    }
   ],
   "source": [
    "# Prompt the user for two numbers A & B, computes and displays C=A/B. If the number B is zero, displays a “division\n",
    "# by Zero” message.\n",
    "A = int(input(\"Enter 1st number: \"))\n",
    "B= int(input(\"Enter 2nd number: \"))\n",
    "if B == 0:\n",
    "    print(\"Division by Zero\")\n",
    "else:\n",
    "    C = A/B\n",
    "    print(C)"
   ]
  },
  {
   "cell_type": "code",
   "execution_count": 1,
   "metadata": {},
   "outputs": [
    {
     "name": "stdout",
     "output_type": "stream",
     "text": [
      "Enter marks: 72\n",
      "Fair\n"
     ]
    }
   ],
   "source": [
    "# Input marks from a user, if marks are greater than 85 display “Excellent”, if the marks are between 80 and 84 (both inclusive)\n",
    "# display “Very Good”, if the marks are between 75 and 79 (both inclusive) display “Good”, if the marks are between 70 and 74\n",
    "# (both inclusive) display “Fair”, if the marks are between 65 and 69 (both inclusive) display “Satisfactory”, otherwise display\n",
    "# “You may not get the degree with such marks”.\n",
    "marks = int(input(\"Enter marks: \"))\n",
    "if marks >= 85:\n",
    "    print(\"Excellent\")\n",
    "elif marks >= 80 and marks <= 84:\n",
    "    print(\"Very Good\")\n",
    "elif marks >= 75 and marks <= 79:\n",
    "    print(\"Good\")\n",
    "elif marks >= 70 and marks <= 74:\n",
    "    print(\"Fair\")\n",
    "elif marks >= 65 and marks <= 69:\n",
    "    print(\"Satisfactory\")\n",
    "else:\n",
    "    print(\"You may not get the degree with such marks\")"
   ]
  },
  {
   "cell_type": "code",
   "execution_count": 3,
   "metadata": {},
   "outputs": [
    {
     "name": "stdout",
     "output_type": "stream",
     "text": [
      "Enter a number: 101\n",
      "Out of Range\n"
     ]
    }
   ],
   "source": [
    "# Input a number form the user, if it is between 1 and 100, display “In Range” otherwise display “Out of Range”.\n",
    "number = int(input(\"Enter a number: \"))\n",
    "if number >= 1 and number <= 100:\n",
    "    print(\"In Range\")\n",
    "else:\n",
    "    print(\"Out of Range\")"
   ]
  },
  {
   "cell_type": "markdown",
   "metadata": {},
   "source": [
    "# 5. Catching exceptions using try and except"
   ]
  },
  {
   "cell_type": "markdown",
   "metadata": {},
   "source": [
    "The idea of try and except is that you know that some sequence of instruction(s) may have a problem and\n",
    "you want to add some statements to be executed if an error occurs. \n",
    "\n",
    "These extra statements (the except block) are ignored if there is no error.\n",
    "\n",
    "You can think of the try and except feature in Python as an “insurance policy”\n",
    "on a sequence of statements."
   ]
  },
  {
   "cell_type": "code",
   "execution_count": 6,
   "metadata": {},
   "outputs": [
    {
     "name": "stdout",
     "output_type": "stream",
     "text": [
      "Enter Fahrenheit Temperature:r\n"
     ]
    },
    {
     "ename": "ValueError",
     "evalue": "could not convert string to float: 'r'",
     "output_type": "error",
     "traceback": [
      "\u001b[1;31m---------------------------------------------------------------------------\u001b[0m",
      "\u001b[1;31mValueError\u001b[0m                                Traceback (most recent call last)",
      "Cell \u001b[1;32mIn[6], line 2\u001b[0m\n\u001b[0;32m      1\u001b[0m inp \u001b[38;5;241m=\u001b[39m \u001b[38;5;28minput\u001b[39m(\u001b[38;5;124m'\u001b[39m\u001b[38;5;124mEnter Fahrenheit Temperature:\u001b[39m\u001b[38;5;124m'\u001b[39m)\n\u001b[1;32m----> 2\u001b[0m fahr \u001b[38;5;241m=\u001b[39m \u001b[38;5;28mfloat\u001b[39m(inp)\n\u001b[0;32m      3\u001b[0m cel \u001b[38;5;241m=\u001b[39m (fahr \u001b[38;5;241m-\u001b[39m \u001b[38;5;241m32.0\u001b[39m) \u001b[38;5;241m*\u001b[39m \u001b[38;5;241m5.0\u001b[39m \u001b[38;5;241m/\u001b[39m \u001b[38;5;241m9.0\u001b[39m\n\u001b[0;32m      4\u001b[0m \u001b[38;5;28mprint\u001b[39m (cel)\n",
      "\u001b[1;31mValueError\u001b[0m: could not convert string to float: 'r'"
     ]
    }
   ],
   "source": [
    "inp = input('Enter Fahrenheit Temperature:')\n",
    "fahr = float(inp)\n",
    "cel = (fahr - 32.0) * 5.0 / 9.0\n",
    "print (cel)"
   ]
  },
  {
   "cell_type": "code",
   "execution_count": 8,
   "metadata": {},
   "outputs": [
    {
     "name": "stdout",
     "output_type": "stream",
     "text": [
      "Enter Fahrenheit Temperature:29\n",
      "-1.6666666666666667\n"
     ]
    }
   ],
   "source": [
    "inp = input('Enter Fahrenheit Temperature:')\n",
    "try:\n",
    "    fahr = float(inp)\n",
    "    cel = (fahr - 32.0) * 5.0 / 9.0\n",
    "    print (cel)\n",
    "except:\n",
    "    print ('Please enter a number')"
   ]
  },
  {
   "cell_type": "raw",
   "metadata": {},
   "source": [
    "Handling an exception with a try statement is called catching an exception. \n",
    "In this example, the except clause prints an error message. \n",
    "In general, catching an exception gives you a chance to fix the problem, or try again, or at least end the program gracefully."
   ]
  },
  {
   "cell_type": "raw",
   "metadata": {},
   "source": [
    "Rewrite your pay program using try and except so that your program handles non-numeric input gracefully by printing a message and exiting the program. The following shows two executions of the program:\n",
    "    \n",
    "Enter Hours: 20\n",
    "Enter Rate: nine\n",
    "Error, please enter numeric input\n",
    "Enter Hours: forty\n",
    "Error, please enter numeric input"
   ]
  },
  {
   "cell_type": "code",
   "execution_count": 13,
   "metadata": {},
   "outputs": [
    {
     "name": "stdout",
     "output_type": "stream",
     "text": [
      "Enter Hours: forty\n",
      "Error, please enter numeric input\n"
     ]
    }
   ],
   "source": [
    "try:\n",
    "    hours = float(input('Enter Hours: '))\n",
    "    rate = float(input('Enter Rate: '))\n",
    "    pay = hours * rate\n",
    "    print('Pay: ', pay)\n",
    "except:\n",
    "    print(\"Error, please enter numeric input\")"
   ]
  },
  {
   "cell_type": "markdown",
   "metadata": {},
   "source": [
    "# 6. Short circuit evaluation of logical expressions"
   ]
  },
  {
   "cell_type": "raw",
   "metadata": {},
   "source": [
    "When Python is processing a logical expression such as x >= 2 and (x/y) > 2, it evaluates the expression from left-to-right. \n",
    "\n",
    "Because of the definition of and, if x is less than 2, the expression x >= 2 is False and so the whole expression is False regardless of whether (x/y) > 2 evaluates to True or False."
   ]
  },
  {
   "cell_type": "raw",
   "metadata": {},
   "source": [
    "When Python detects that there is nothing to be gained by evaluating the rest of a logical expression, it stops its evaluation and does not do the computations in the rest of the logical expression. \n",
    "\n",
    "When the evaluation of a logical expression stops because the overall value is already known, it is called short-circuiting the evaluation."
   ]
  },
  {
   "cell_type": "code",
   "execution_count": 14,
   "metadata": {},
   "outputs": [
    {
     "data": {
      "text/plain": [
       "True"
      ]
     },
     "execution_count": 14,
     "metadata": {},
     "output_type": "execute_result"
    }
   ],
   "source": [
    "x = 6\n",
    "y = 2\n",
    "x >= 2 and (x/y) > 2"
   ]
  },
  {
   "cell_type": "code",
   "execution_count": 15,
   "metadata": {},
   "outputs": [
    {
     "data": {
      "text/plain": [
       "False"
      ]
     },
     "execution_count": 15,
     "metadata": {},
     "output_type": "execute_result"
    }
   ],
   "source": [
    "x = 1\n",
    "y = 0\n",
    "x >= 2 and (x/y) > 2"
   ]
  },
  {
   "cell_type": "code",
   "execution_count": 16,
   "metadata": {},
   "outputs": [
    {
     "ename": "ZeroDivisionError",
     "evalue": "division by zero",
     "output_type": "error",
     "traceback": [
      "\u001b[1;31m---------------------------------------------------------------------------\u001b[0m",
      "\u001b[1;31mZeroDivisionError\u001b[0m                         Traceback (most recent call last)",
      "Cell \u001b[1;32mIn[16], line 4\u001b[0m\n\u001b[0;32m      2\u001b[0m x \u001b[38;5;241m=\u001b[39m \u001b[38;5;241m6\u001b[39m\n\u001b[0;32m      3\u001b[0m y \u001b[38;5;241m=\u001b[39m \u001b[38;5;241m0\u001b[39m\n\u001b[1;32m----> 4\u001b[0m x \u001b[38;5;241m>\u001b[39m\u001b[38;5;241m=\u001b[39m \u001b[38;5;241m2\u001b[39m \u001b[38;5;129;01mand\u001b[39;00m (x\u001b[38;5;241m/\u001b[39my) \u001b[38;5;241m>\u001b[39m \u001b[38;5;241m2\u001b[39m\n",
      "\u001b[1;31mZeroDivisionError\u001b[0m: division by zero"
     ]
    }
   ],
   "source": [
    "# what will happen here???\n",
    "x = 6\n",
    "y = 0\n",
    "x >= 2 and (x/y) > 2\n",
    "# first expression will be evaluated succesfully but after and while computing the second expression, \n",
    "# it throws the exception, division by zero."
   ]
  },
  {
   "cell_type": "raw",
   "metadata": {},
   "source": [
    "The third calculation failed because Python was evaluating (x/y) and y was zero which causes a runtime error. \n",
    "\n",
    "But the second example did not fail because the first part of the expression x >= 2 evaluated to False so the (x/y) was not ever executed due to the short circuit rule and there was no error."
   ]
  },
  {
   "cell_type": "raw",
   "metadata": {},
   "source": [
    "We can construct the logical expression to strategically place a guard evaluation just before the evaluation that might cause an error as follows:"
   ]
  },
  {
   "cell_type": "code",
   "execution_count": 17,
   "metadata": {},
   "outputs": [
    {
     "data": {
      "text/plain": [
       "False"
      ]
     },
     "execution_count": 17,
     "metadata": {},
     "output_type": "execute_result"
    }
   ],
   "source": [
    "x = 1\n",
    "y = 0\n",
    "x >= 2 and y != 0 and (x/y) > 2"
   ]
  },
  {
   "cell_type": "code",
   "execution_count": 18,
   "metadata": {},
   "outputs": [
    {
     "data": {
      "text/plain": [
       "False"
      ]
     },
     "execution_count": 18,
     "metadata": {},
     "output_type": "execute_result"
    }
   ],
   "source": [
    "x = 6\n",
    "y = 0\n",
    "x >= 2 and y != 0 and (x/y) > 2"
   ]
  },
  {
   "cell_type": "code",
   "execution_count": 19,
   "metadata": {},
   "outputs": [
    {
     "ename": "ZeroDivisionError",
     "evalue": "division by zero",
     "output_type": "error",
     "traceback": [
      "\u001b[1;31m---------------------------------------------------------------------------\u001b[0m",
      "\u001b[1;31mZeroDivisionError\u001b[0m                         Traceback (most recent call last)",
      "Cell \u001b[1;32mIn[19], line 2\u001b[0m\n\u001b[0;32m      1\u001b[0m \u001b[38;5;66;03m# what will happen if you execute x >= 2 and (x/y) > 2 and y != 0\u001b[39;00m\n\u001b[1;32m----> 2\u001b[0m x \u001b[38;5;241m>\u001b[39m\u001b[38;5;241m=\u001b[39m \u001b[38;5;241m2\u001b[39m \u001b[38;5;129;01mand\u001b[39;00m (x\u001b[38;5;241m/\u001b[39my) \u001b[38;5;241m>\u001b[39m \u001b[38;5;241m2\u001b[39m \u001b[38;5;129;01mand\u001b[39;00m y \u001b[38;5;241m!=\u001b[39m \u001b[38;5;241m0\u001b[39m\n",
      "\u001b[1;31mZeroDivisionError\u001b[0m: division by zero"
     ]
    }
   ],
   "source": [
    "# what will happen if you execute x >= 2 and (x/y) > 2 and y != 0\n",
    "x >= 2 and (x/y) > 2 and y != 0"
   ]
  },
  {
   "cell_type": "raw",
   "metadata": {},
   "source": [
    "In the second expression, we say that y != 0 acts as a guard to insure that we only execute (x/y) if y is non-zero."
   ]
  }
 ],
 "metadata": {
  "kernelspec": {
   "display_name": "Python 3 (ipykernel)",
   "language": "python",
   "name": "python3"
  },
  "language_info": {
   "codemirror_mode": {
    "name": "ipython",
    "version": 3
   },
   "file_extension": ".py",
   "mimetype": "text/x-python",
   "name": "python",
   "nbconvert_exporter": "python",
   "pygments_lexer": "ipython3",
   "version": "3.11.5"
  },
  "vscode": {
   "interpreter": {
    "hash": "cf877e899ade189e092f419ed6500768233ef45bf03c1569485e8f982cec4187"
   }
  }
 },
 "nbformat": 4,
 "nbformat_minor": 2
}
