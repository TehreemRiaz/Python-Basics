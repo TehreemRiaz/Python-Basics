{
 "cells": [
  {
   "cell_type": "markdown",
   "metadata": {},
   "source": [
    "# Contents\n",
    "## 1. What is value\n",
    "## 2. print () function\n",
    "## 3. type () function\n",
    "## 4. Variable\n",
    "## 5. Variable names and keywords\n",
    "## 6. Statements\n",
    "## 7. Operators and operands\n",
    "## 8. Order of operations\n",
    "## 9. String operations\n",
    "## 10. Asking the user for input\n",
    "## 11. Type Casting\n",
    "## 12. Comments"
   ]
  },
  {
   "cell_type": "markdown",
   "metadata": {},
   "source": [
    "# 1. Value"
   ]
  },
  {
   "cell_type": "markdown",
   "metadata": {},
   "source": [
    "### A value is one of the basic things a program works with, like a letter or a number.\n",
    "The values could be 1, 2.5, and 'Hello, World!'.\n",
    "\n",
    "These values belong to different types: 1 is an integer, 2.5 is float and \"Hello World\" is a string"
   ]
  },
  {
   "cell_type": "markdown",
   "metadata": {},
   "source": [
    "# 2. print() function"
   ]
  },
  {
   "cell_type": "markdown",
   "metadata": {},
   "source": [
    "We can print these values using print () function"
   ]
  },
  {
   "cell_type": "code",
   "execution_count": 1,
   "metadata": {},
   "outputs": [
    {
     "name": "stdout",
     "output_type": "stream",
     "text": [
      "1\n"
     ]
    }
   ],
   "source": [
    "print (1)"
   ]
  },
  {
   "cell_type": "code",
   "execution_count": 2,
   "metadata": {},
   "outputs": [
    {
     "name": "stdout",
     "output_type": "stream",
     "text": [
      "2.5\n"
     ]
    }
   ],
   "source": [
    "print(2.5)"
   ]
  },
  {
   "cell_type": "code",
   "execution_count": 3,
   "metadata": {},
   "outputs": [
    {
     "name": "stdout",
     "output_type": "stream",
     "text": [
      "hello world\n"
     ]
    }
   ],
   "source": [
    "print (\"hello world\")"
   ]
  },
  {
   "cell_type": "code",
   "execution_count": 4,
   "metadata": {},
   "outputs": [
    {
     "name": "stdout",
     "output_type": "stream",
     "text": [
      "hello world\n"
     ]
    }
   ],
   "source": [
    "print ('hello world')"
   ]
  },
  {
   "cell_type": "code",
   "execution_count": 1,
   "metadata": {},
   "outputs": [
    {
     "name": "stdout",
     "output_type": "stream",
     "text": [
      "1.5 2 6\n"
     ]
    }
   ],
   "source": [
    "# print two or more values using single statement\n",
    "print(1.5, 2, 6)\n"
   ]
  },
  {
   "cell_type": "code",
   "execution_count": 2,
   "metadata": {},
   "outputs": [
    {
     "name": "stdout",
     "output_type": "stream",
     "text": [
      "Pakistan\n"
     ]
    }
   ],
   "source": [
    "# print the name of your country\n",
    "print('Pakistan')"
   ]
  },
  {
   "cell_type": "code",
   "execution_count": 4,
   "metadata": {},
   "outputs": [
    {
     "name": "stdout",
     "output_type": "stream",
     "text": [
      "23 10 2002\n"
     ]
    }
   ],
   "source": [
    "# print your date of birth\n",
    "print(23, 10, 2002)"
   ]
  },
  {
   "cell_type": "code",
   "execution_count": 5,
   "metadata": {},
   "outputs": [
    {
     "name": "stdout",
     "output_type": "stream",
     "text": [
      "Tehreem 21 5'8\n"
     ]
    }
   ],
   "source": [
    "# print your name, age and height using one print statement\n",
    "print('Tehreem', 21, \"5'8\")"
   ]
  },
  {
   "cell_type": "markdown",
   "metadata": {},
   "source": [
    "# 3. type() function"
   ]
  },
  {
   "cell_type": "markdown",
   "metadata": {},
   "source": [
    "If you are not sure what type a value has, the interpreter can tell you."
   ]
  },
  {
   "cell_type": "code",
   "execution_count": 12,
   "metadata": {},
   "outputs": [
    {
     "data": {
      "text/plain": [
       "int"
      ]
     },
     "execution_count": 12,
     "metadata": {},
     "output_type": "execute_result"
    }
   ],
   "source": [
    "type(1)"
   ]
  },
  {
   "cell_type": "code",
   "execution_count": 13,
   "metadata": {},
   "outputs": [
    {
     "data": {
      "text/plain": [
       "float"
      ]
     },
     "execution_count": 13,
     "metadata": {},
     "output_type": "execute_result"
    }
   ],
   "source": [
    "type(2.5)"
   ]
  },
  {
   "cell_type": "code",
   "execution_count": 14,
   "metadata": {},
   "outputs": [
    {
     "data": {
      "text/plain": [
       "str"
      ]
     },
     "execution_count": 14,
     "metadata": {},
     "output_type": "execute_result"
    }
   ],
   "source": [
    "type(\"hello world\")"
   ]
  },
  {
   "cell_type": "code",
   "execution_count": 8,
   "metadata": {},
   "outputs": [
    {
     "data": {
      "text/plain": [
       "float"
      ]
     },
     "execution_count": 8,
     "metadata": {},
     "output_type": "execute_result"
    }
   ],
   "source": [
    "# what will be the type of '5'\n",
    "type(5)\n",
    "# what is type of 9.3333333333\n",
    "type(9.3333333333)"
   ]
  },
  {
   "cell_type": "code",
   "execution_count": 11,
   "metadata": {},
   "outputs": [
    {
     "data": {
      "text/plain": [
       "dict"
      ]
     },
     "execution_count": 11,
     "metadata": {},
     "output_type": "execute_result"
    }
   ],
   "source": [
    "#print the type of (), [], {} \n",
    "type(())\n",
    "type([])\n",
    "type({})"
   ]
  },
  {
   "cell_type": "code",
   "execution_count": 12,
   "metadata": {},
   "outputs": [
    {
     "data": {
      "text/plain": [
       "range"
      ]
     },
     "execution_count": 12,
     "metadata": {},
     "output_type": "execute_result"
    }
   ],
   "source": [
    "# what is output of type(range(5))\n",
    "type(range(5))"
   ]
  },
  {
   "cell_type": "markdown",
   "metadata": {},
   "source": [
    "# 4. Variable"
   ]
  },
  {
   "cell_type": "markdown",
   "metadata": {},
   "source": [
    "One of the most powerful features of a programming language is the ability to\n",
    "manipulate variables. \n",
    "\n",
    "A variable is a name that refers to a value.\n",
    "\n",
    "Variables names are case sensitive"
   ]
  },
  {
   "cell_type": "code",
   "execution_count": 14,
   "metadata": {},
   "outputs": [],
   "source": [
    "# An assignment statement creates new variables and gives them values:\n",
    "name = \"Ahmed\"\n",
    "age = 20\n",
    "height = 3.5"
   ]
  },
  {
   "cell_type": "markdown",
   "metadata": {},
   "source": [
    "This example makes three assignments, first assign \"Ahmed\" to name variable, second assign 20 to age and 3.5 to height"
   ]
  },
  {
   "cell_type": "code",
   "execution_count": 15,
   "metadata": {},
   "outputs": [
    {
     "name": "stdout",
     "output_type": "stream",
     "text": [
      "Ahmed\n"
     ]
    }
   ],
   "source": [
    "# to print the name you can use print statement\n",
    "print(name)"
   ]
  },
  {
   "cell_type": "code",
   "execution_count": 16,
   "metadata": {},
   "outputs": [
    {
     "name": "stdout",
     "output_type": "stream",
     "text": [
      "20 3.5\n"
     ]
    }
   ],
   "source": [
    "# print the values of age and height\n",
    "print(age, height)"
   ]
  },
  {
   "cell_type": "code",
   "execution_count": 17,
   "metadata": {},
   "outputs": [
    {
     "name": "stdout",
     "output_type": "stream",
     "text": [
      "Ahmed 20 3.5\n"
     ]
    }
   ],
   "source": [
    "# print all three values using single print statement\n",
    "print(name, age, height)"
   ]
  },
  {
   "cell_type": "code",
   "execution_count": 24,
   "metadata": {},
   "outputs": [
    {
     "name": "stdout",
     "output_type": "stream",
     "text": [
      "1 0 0\n",
      "100,000,000\n"
     ]
    }
   ],
   "source": [
    "# What will happen if you print 1 million using following statement\n",
    "print(1,000,000)\n",
    "# now search out the way to print 1 million and try it out\n",
    "print(\"{:,}\".format(100000000))"
   ]
  },
  {
   "cell_type": "code",
   "execution_count": 21,
   "metadata": {},
   "outputs": [
    {
     "name": "stdout",
     "output_type": "stream",
     "text": [
      "4 7 39\n"
     ]
    }
   ],
   "source": [
    "# Store three integers in x,y,z and print them using single print statement.\n",
    "x = 4\n",
    "y = 7\n",
    "z = 39\n",
    "print(x, y, z)"
   ]
  },
  {
   "cell_type": "code",
   "execution_count": 22,
   "metadata": {},
   "outputs": [
    {
     "name": "stdout",
     "output_type": "stream",
     "text": [
      "<class 'float'>\n"
     ]
    }
   ],
   "source": [
    "var1 = 121.25\n",
    "# print type of var1\n",
    "print(type(var1))"
   ]
  },
  {
   "cell_type": "markdown",
   "metadata": {},
   "source": [
    "# 5. Variable names and keywords"
   ]
  },
  {
   "cell_type": "raw",
   "metadata": {},
   "source": [
    "Variable names can be arbitrarily long. \n",
    "They can contain both letters and numbers,but they have to begin with a letter.\n",
    "The underscore character (_) can appear in a name.\n",
    "Variable names can start with an underscore character, but we generally avoid using it unles\n",
    "we are writing library code for others to use."
   ]
  },
  {
   "cell_type": "code",
   "execution_count": 23,
   "metadata": {},
   "outputs": [
    {
     "ename": "SyntaxError",
     "evalue": "invalid decimal literal (3979609212.py, line 2)",
     "output_type": "error",
     "traceback": [
      "\u001b[1;36m  Cell \u001b[1;32mIn[23], line 2\u001b[1;36m\u001b[0m\n\u001b[1;33m    47name = 'Pakistan'\u001b[0m\n\u001b[1;37m     ^\u001b[0m\n\u001b[1;31mSyntaxError\u001b[0m\u001b[1;31m:\u001b[0m invalid decimal literal\n"
     ]
    }
   ],
   "source": [
    "# what will happen\n",
    "47name = 'Pakistan'\n",
    "name@ = 'Pakistan'\n",
    "class = 'Pakistan'\n",
    "myname = 'kamran'\n",
    "first_val = 10\n",
    "string = 'abc'"
   ]
  },
  {
   "cell_type": "raw",
   "metadata": {},
   "source": [
    "It turns out that class is one of Python’s keywords.\n",
    "The interpreter uses keywords to recognize the structure of the program, and they cannot be used as variable names."
   ]
  },
  {
   "cell_type": "markdown",
   "metadata": {},
   "source": [
    "# 6. Statements"
   ]
  },
  {
   "cell_type": "raw",
   "metadata": {},
   "source": [
    "A statement is a unit of code that the Python interpreter can execute.\n",
    "We have seen two kinds of statements: print and assignment."
   ]
  },
  {
   "cell_type": "markdown",
   "metadata": {},
   "source": [
    "# 7. Operators and operands"
   ]
  },
  {
   "cell_type": "code",
   "execution_count": null,
   "metadata": {
    "collapsed": true
   },
   "outputs": [],
   "source": []
  },
  {
   "cell_type": "raw",
   "metadata": {},
   "source": [
    "Operators are special symbols that represent computations like addition and multiplication.\n",
    "The values the operator is applied to are called operands."
   ]
  },
  {
   "cell_type": "code",
   "execution_count": null,
   "metadata": {},
   "outputs": [],
   "source": [
    "# The operators +, -, *, / and ** perform addition, subtraction, multiplication, division,\n",
    "# exponentiation and modulus operator as in the following examples:\n",
    "print (20+32, 3-1, 4*5 , 12/6,  5**2, 13%5)"
   ]
  },
  {
   "cell_type": "code",
   "execution_count": 25,
   "metadata": {},
   "outputs": [
    {
     "name": "stdout",
     "output_type": "stream",
     "text": [
      "90\n"
     ]
    }
   ],
   "source": [
    "# print 200+323-433\n",
    "print(200+323-433)"
   ]
  },
  {
   "cell_type": "code",
   "execution_count": 26,
   "metadata": {},
   "outputs": [
    {
     "name": "stdout",
     "output_type": "stream",
     "text": [
      "6\n"
     ]
    }
   ],
   "source": [
    "# print (2+1)*(8-6)\n",
    "print((2+1)*(8-6))"
   ]
  },
  {
   "cell_type": "code",
   "execution_count": 27,
   "metadata": {},
   "outputs": [
    {
     "name": "stdout",
     "output_type": "stream",
     "text": [
      "1024\n"
     ]
    }
   ],
   "source": [
    "# print no of bytes in 1KB using exponentiation operator\n",
    "bytes_in_1KB = 2 ** 10\n",
    "print(bytes_in_1KB)\n"
   ]
  },
  {
   "cell_type": "code",
   "execution_count": 28,
   "metadata": {},
   "outputs": [
    {
     "name": "stdout",
     "output_type": "stream",
     "text": [
      "216\n"
     ]
    }
   ],
   "source": [
    "# print(2*3**3*4)\n",
    "print(2*3**3*4)"
   ]
  },
  {
   "cell_type": "markdown",
   "metadata": {},
   "source": [
    "# 8. Expressions"
   ]
  },
  {
   "cell_type": "raw",
   "metadata": {},
   "source": [
    "An expression is a combination of values, variables, and operators."
   ]
  },
  {
   "cell_type": "raw",
   "metadata": {},
   "source": [
    "Assignement: type the following statements in the Python interpreter to see what\n",
    "they do:\n",
    "5\n",
    "x = 5\n",
    "x + 1"
   ]
  },
  {
   "cell_type": "code",
   "execution_count": 29,
   "metadata": {},
   "outputs": [
    {
     "data": {
      "text/plain": [
       "6"
      ]
     },
     "execution_count": 29,
     "metadata": {},
     "output_type": "execute_result"
    }
   ],
   "source": [
    "# execute the following statements and see the output\n",
    "#5\n",
    "x = 5\n",
    "x + 1"
   ]
  },
  {
   "cell_type": "code",
   "execution_count": 30,
   "metadata": {},
   "outputs": [
    {
     "ename": "SyntaxError",
     "evalue": "invalid syntax (1781337220.py, line 3)",
     "output_type": "error",
     "traceback": [
      "\u001b[1;36m  Cell \u001b[1;32mIn[30], line 3\u001b[1;36m\u001b[0m\n\u001b[1;33m    x = y+=2\u001b[0m\n\u001b[1;37m         ^\u001b[0m\n\u001b[1;31mSyntaxError\u001b[0m\u001b[1;31m:\u001b[0m invalid syntax\n"
     ]
    }
   ],
   "source": [
    "# what is output of\n",
    "y = 10\n",
    "x = y+=2\n",
    "print(x)"
   ]
  },
  {
   "cell_type": "code",
   "execution_count": 31,
   "metadata": {},
   "outputs": [
    {
     "name": "stdout",
     "output_type": "stream",
     "text": [
      "42\n",
      "594\n"
     ]
    }
   ],
   "source": [
    "# Store three integers in x,y,z and print their sum and product.\n",
    "x, y, z = 3, 6, 33\n",
    "print(x+y+z)\n",
    "print(x*y*z)"
   ]
  },
  {
   "cell_type": "markdown",
   "metadata": {},
   "source": [
    "# 9. Order of operations"
   ]
  },
  {
   "cell_type": "raw",
   "metadata": {},
   "source": [
    "When more than one operator appears in an expression, the order of evaluation\n",
    "depends on the rules of precedence. \n",
    "For mathematical operators, Python follows mathematical convention. \n",
    "The acronym PEMDAS is a useful way to remember the rules:\n",
    "1. Parentheses\n",
    "2. Exponentiation\n",
    "3. Multiplication and Division\n",
    "4. Addition and Subtraction\n",
    "Operators with the same precedence are evaluated from left to right.\n",
    "    "
   ]
  },
  {
   "cell_type": "code",
   "execution_count": 32,
   "metadata": {},
   "outputs": [
    {
     "name": "stdout",
     "output_type": "stream",
     "text": [
      "4\n",
      "8\n",
      "3\n",
      "3\n"
     ]
    }
   ],
   "source": [
    "# write output of the following commands without excuting it\n",
    "print (2*(3-1))\n",
    "print ((1+1)**(5-2))\n",
    "print (2**1+1)\n",
    "print (3*1**3)"
   ]
  },
  {
   "cell_type": "markdown",
   "metadata": {},
   "source": [
    "# 10. String operations"
   ]
  },
  {
   "cell_type": "code",
   "execution_count": 33,
   "metadata": {},
   "outputs": [
    {
     "name": "stdout",
     "output_type": "stream",
     "text": [
      "30\n"
     ]
    }
   ],
   "source": [
    "first = 10\n",
    "second = 20\n",
    "print (first + second)"
   ]
  },
  {
   "cell_type": "code",
   "execution_count": 34,
   "metadata": {},
   "outputs": [
    {
     "name": "stdout",
     "output_type": "stream",
     "text": [
      "1020\n"
     ]
    }
   ],
   "source": [
    "first = '10'\n",
    "second = '20'\n",
    "print (first + second)"
   ]
  },
  {
   "cell_type": "code",
   "execution_count": 35,
   "metadata": {},
   "outputs": [
    {
     "name": "stdout",
     "output_type": "stream",
     "text": [
      "hellohellohello\n"
     ]
    }
   ],
   "source": [
    "print (\"hello\" * 3 )"
   ]
  },
  {
   "cell_type": "code",
   "execution_count": 36,
   "metadata": {},
   "outputs": [
    {
     "name": "stdout",
     "output_type": "stream",
     "text": [
      "TehreemTehreemTehreemTehreemTehreemTehreemTehreemTehreemTehreemTehreem\n"
     ]
    }
   ],
   "source": [
    "# print your name 10 times\n",
    "print(\"Tehreem\" * 10) "
   ]
  },
  {
   "cell_type": "code",
   "execution_count": 38,
   "metadata": {},
   "outputs": [
    {
     "data": {
      "text/plain": [
       "'JamesJamesJamesJamesJamesJames'"
      ]
     },
     "execution_count": 38,
     "metadata": {},
     "output_type": "execute_result"
    }
   ],
   "source": [
    "# What is output of var=\"James\"*2*3\n",
    "var=\"James\"*2*3\n",
    "var"
   ]
  },
  {
   "cell_type": "markdown",
   "metadata": {},
   "source": [
    "# 11. Asking the user for input"
   ]
  },
  {
   "cell_type": "code",
   "execution_count": 39,
   "metadata": {},
   "outputs": [
    {
     "name": "stdout",
     "output_type": "stream",
     "text": [
      "please enter name: Tehreem\n",
      "Tehreem\n"
     ]
    }
   ],
   "source": [
    "name = input(\"please enter name: \")\n",
    "print (name)"
   ]
  },
  {
   "cell_type": "code",
   "execution_count": 41,
   "metadata": {},
   "outputs": [
    {
     "name": "stdout",
     "output_type": "stream",
     "text": [
      "please enter age: 34\n"
     ]
    },
    {
     "data": {
      "text/plain": [
       "'343434'"
      ]
     },
     "execution_count": 41,
     "metadata": {},
     "output_type": "execute_result"
    }
   ],
   "source": [
    "# wirte a program which take age from user and concate it three time\n",
    "age = input(\"please enter age: \")\n",
    "age = age * 3\n",
    "age"
   ]
  },
  {
   "cell_type": "code",
   "execution_count": 43,
   "metadata": {},
   "outputs": [
    {
     "name": "stdout",
     "output_type": "stream",
     "text": [
      "please enter number 1: 2\n",
      "please enter number 2: 3\n",
      "6\n"
     ]
    }
   ],
   "source": [
    "# Write a program to accept two numbers from the user and calculate multiplication.\n",
    "n1 = int(input(\"please enter number 1: \"))\n",
    "n2 = int(input(\"please enter number 2: \"))\n",
    "print(n1 * n2)"
   ]
  },
  {
   "cell_type": "code",
   "execution_count": 45,
   "metadata": {},
   "outputs": [
    {
     "name": "stdout",
     "output_type": "stream",
     "text": [
      "121212\n"
     ]
    }
   ],
   "source": [
    "# modify this code so that it prints 121212 instead of 36\n",
    "age='12'\n",
    "print(age*3)"
   ]
  },
  {
   "cell_type": "markdown",
   "metadata": {},
   "source": [
    "# 12. Type Casting"
   ]
  },
  {
   "cell_type": "code",
   "execution_count": 46,
   "metadata": {},
   "outputs": [
    {
     "name": "stdout",
     "output_type": "stream",
     "text": [
      "10\n"
     ]
    }
   ],
   "source": [
    "a = '10'\n",
    "print (a)"
   ]
  },
  {
   "cell_type": "code",
   "execution_count": 47,
   "metadata": {},
   "outputs": [
    {
     "data": {
      "text/plain": [
       "'10'"
      ]
     },
     "execution_count": 47,
     "metadata": {},
     "output_type": "execute_result"
    }
   ],
   "source": [
    "int(a)\n",
    "str(a)"
   ]
  },
  {
   "cell_type": "code",
   "execution_count": 48,
   "metadata": {},
   "outputs": [
    {
     "name": "stdout",
     "output_type": "stream",
     "text": [
      "2\n",
      "30\n"
     ]
    }
   ],
   "source": [
    "# take an integer from user and multiply it with 15\n",
    "num = int(input())\n",
    "print(num*15)"
   ]
  },
  {
   "cell_type": "code",
   "execution_count": 50,
   "metadata": {},
   "outputs": [
    {
     "name": "stdout",
     "output_type": "stream",
     "text": [
      "579\n"
     ]
    }
   ],
   "source": [
    "num_int = 123\n",
    "num_str = \"456\"\n",
    "# Find the sum of these 2 variables\n",
    "print(num_int + int(num_str))"
   ]
  },
  {
   "cell_type": "markdown",
   "metadata": {},
   "source": [
    "# 13. Comments"
   ]
  },
  {
   "cell_type": "code",
   "execution_count": null,
   "metadata": {
    "collapsed": true
   },
   "outputs": [],
   "source": [
    "# here is comments"
   ]
  },
  {
   "cell_type": "markdown",
   "metadata": {},
   "source": [
    "# Exercise"
   ]
  },
  {
   "cell_type": "code",
   "execution_count": 1,
   "metadata": {},
   "outputs": [
    {
     "name": "stdout",
     "output_type": "stream",
     "text": [
      "Tehreem\n",
      "Hello Tehreem\n"
     ]
    }
   ],
   "source": [
    "# Write a program that uses raw_input to prompt a user for their name and then welcomes them.\n",
    "\n",
    "# Enter your name: Chuck\n",
    "# Hello Chuck\n",
    "name = input()\n",
    "print(\"Hello\", name)"
   ]
  },
  {
   "cell_type": "code",
   "execution_count": 5,
   "metadata": {},
   "outputs": [
    {
     "name": "stdout",
     "output_type": "stream",
     "text": [
      "Enter Hours: 35\n",
      "Enter Rate: 2.75\n",
      "Pay:  96.25\n"
     ]
    }
   ],
   "source": [
    "# Write a program to prompt the user for hours and rate per hour to\n",
    "# compute gross pay.\n",
    "\n",
    "# Enter Hours: 35\n",
    "# Enter Rate: 2.75\n",
    "# Pay: 96.25\n",
    "hours = float(input('Enter Hours: '))\n",
    "rate = float(input('Enter Rate: '))\n",
    "pay = hours * rate\n",
    "print('Pay: ', pay)"
   ]
  },
  {
   "cell_type": "raw",
   "metadata": {},
   "source": [
    "Assume that we execute the following assignment statements:\n",
    "width = 17\n",
    "height = 12.0\n",
    "\n",
    "For each of the following expressions, write the value of the expression and the\n",
    "type (of the value of the expression).\n",
    "\n",
    "1. width/2\n",
    "2. width/2.0\n",
    "3. height/3\n",
    "4. 1 + 2 * 5\n",
    "\n",
    "Use the Python interpreter to check your answers."
   ]
  },
  {
   "cell_type": "code",
   "execution_count": 7,
   "metadata": {},
   "outputs": [
    {
     "name": "stdout",
     "output_type": "stream",
     "text": [
      "8.5 <class 'float'>\n",
      "8.5 <class 'float'>\n",
      "4.0 <class 'float'>\n",
      "11 <class 'int'>\n"
     ]
    }
   ],
   "source": [
    "width = 17\n",
    "height = 12.0\n",
    "v1 = width/2\n",
    "v2 = width/2.0\n",
    "v3 = height/3\n",
    "v4 = 1 + 2 * 5\n",
    "print(v1, type(v1))\n",
    "print(v2, type(v2))\n",
    "print(v3, type(v3))\n",
    "print(v4, type(v4))\n"
   ]
  },
  {
   "cell_type": "raw",
   "metadata": {},
   "source": [
    "Write a program which prompts the user for a Celsius temperature,\n",
    "convert the temperature to Fahrenheit and print out the converted temperature."
   ]
  },
  {
   "cell_type": "code",
   "execution_count": 9,
   "metadata": {},
   "outputs": [
    {
     "name": "stdout",
     "output_type": "stream",
     "text": [
      "Enter temperature in Celsius: 0\n",
      "Temperature in Fahrenheit:  32.0\n"
     ]
    }
   ],
   "source": [
    "cel = float(input(\"Enter temperature in Celsius: \"))\n",
    "feh = (cel * 1.8) + 32\n",
    "print(\"Temperature in Fahrenheit: \", feh)\n"
   ]
  }
 ],
 "metadata": {
  "kernelspec": {
   "display_name": "Python 3 (ipykernel)",
   "language": "python",
   "name": "python3"
  },
  "language_info": {
   "codemirror_mode": {
    "name": "ipython",
    "version": 3
   },
   "file_extension": ".py",
   "mimetype": "text/x-python",
   "name": "python",
   "nbconvert_exporter": "python",
   "pygments_lexer": "ipython3",
   "version": "3.11.5"
  },
  "vscode": {
   "interpreter": {
    "hash": "cf877e899ade189e092f419ed6500768233ef45bf03c1569485e8f982cec4187"
   }
  }
 },
 "nbformat": 4,
 "nbformat_minor": 2
}
